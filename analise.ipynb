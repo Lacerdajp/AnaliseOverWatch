{
 "cells": [
  {
   "cell_type": "code",
   "execution_count": 2,
   "metadata": {},
   "outputs": [
    {
     "name": "stdout",
     "output_type": "stream",
     "text": [
      "['date', 'time', 'season', 'game_id', 'sr_start', 'sr_finish', 'sr_delta', 'streak_number', 'result', 'my_team_sr', 'enemy_team_sr', 'team_sr_delta', 'my_team_1', 'my_team_2', 'my_team_3', 'my_team_4', 'my_team_5', 'my_team_6', 'enemy_team_1', 'enemy_team_2', 'enemy_team_3', 'enemy_team_4', 'enemy_team_5', 'enemy_team_6', 'map', 'round', 'capscore', 'score_distance', 'time_left', 'team_role', 'match_length', 'charcter_1', 'character_2', 'character_3', 'communication', 'note', 'psychological_condition', 'eliminations', 'objective_kills', 'damage', 'healing', 'deaths', 'weapon_accuracy', 'offensive_assists', 'defensive_assists', 'scoped', '', '', '', '']\n"
     ]
    }
   ],
   "source": [
    "from sklearn.preprocessing import StandardScaler\n",
    "from sklearn.model_selection import train_test_split\n",
    "from sklearn.svm import SVR\n",
    "import pandas as pd\n",
    "columns=\"date,time,season,game_id,sr_start,sr_finish,sr_delta,streak_number,result,my_team_sr,enemy_team_sr,team_sr_delta,my_team_1,my_team_2,my_team_3,my_team_4,my_team_5,my_team_6,enemy_team_1,enemy_team_2,enemy_team_3,enemy_team_4,enemy_team_5,enemy_team_6,map,round,capscore,score_distance,time_left,team_role,match_length,charcter_1,character_2,character_3,communication,note,psychological_condition,eliminations,objective_kills,damage,healing,deaths,weapon_accuracy,offensive_assists,defensive_assists,scoped,,,,\".split(',')\n",
    "print(columns)\n",
    "dataset=pd.read_csv(\"./Dataset/overwatch-diary.csv\",names=columns)\n",
    "\n",
    "\n",
    "def fit(self, X, y=None):\n",
    "    return X\n",
    "def predict(self,X,y=None):\n",
    "    return X\n",
    "def test(self):\n",
    "    return 1\n",
    "\n"
   ]
  },
  {
   "cell_type": "code",
   "execution_count": null,
   "metadata": {},
   "outputs": [],
   "source": []
  }
 ],
 "metadata": {
  "kernelspec": {
   "display_name": "Python 3",
   "language": "python",
   "name": "python3"
  },
  "language_info": {
   "codemirror_mode": {
    "name": "ipython",
    "version": 3
   },
   "file_extension": ".py",
   "mimetype": "text/x-python",
   "name": "python",
   "nbconvert_exporter": "python",
   "pygments_lexer": "ipython3",
   "version": "3.11.6"
  }
 },
 "nbformat": 4,
 "nbformat_minor": 2
}
